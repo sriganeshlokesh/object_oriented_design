{
 "cells": [
  {
   "cell_type": "code",
   "id": "initial_id",
   "metadata": {
    "collapsed": true,
    "ExecuteTime": {
     "end_time": "2024-07-22T13:29:47.212780Z",
     "start_time": "2024-07-22T13:29:47.206620Z"
    }
   },
   "source": [
    "class Guitar:\n",
    "    def __init__(self, serial_number, price, builder, model, guitar_type, back_wood, top_wood):\n",
    "        self._serial_number = serial_number\n",
    "        self._price = price\n",
    "        self._builder = builder\n",
    "        self._model = model\n",
    "        self._type = guitar_type\n",
    "        self._back_wood = back_wood\n",
    "        self._top_wood = top_wood\n",
    "\n",
    "    @property\n",
    "    def serial_number(self):\n",
    "        return self._serial_number\n",
    "\n",
    "    @property\n",
    "    def price(self):\n",
    "        return self._price\n",
    "\n",
    "    @price.setter\n",
    "    def price(self, value):\n",
    "        self._price = value\n",
    "\n",
    "    @property\n",
    "    def builder(self):\n",
    "        return self._builder\n",
    "\n",
    "    @property\n",
    "    def model(self):\n",
    "        return self._model\n",
    "\n",
    "    @property\n",
    "    def type(self):\n",
    "        return self._type\n",
    "\n",
    "    @property\n",
    "    def back_wood(self):\n",
    "        return self._back_wood\n",
    "\n",
    "    @property\n",
    "    def top_wood(self):\n",
    "        return self._top_wood\n",
    "\n",
    "\n",
    "# Example usage\n",
    "guitar = Guitar(\"SN123456\", 1500.00, \"Fender\", \"Stratocaster\", \"Electric\", \"Alder\", \"Maple\")\n",
    "print(f\"Serial Number: {guitar.serial_number}\")\n",
    "print(f\"Price: {guitar.price}\")\n",
    "print(f\"Builder: {guitar.builder}\")\n",
    "print(f\"Model: {guitar.model}\")\n",
    "print(f\"Type: {guitar.type}\")\n",
    "print(f\"Back Wood: {guitar.back_wood}\")\n",
    "print(f\"Top Wood: {guitar.top_wood}\")\n",
    "\n",
    "# Updating the price\n",
    "guitar.price = 1600.00\n",
    "print(f\"Updated Price: {guitar.price}\")"
   ],
   "outputs": [
    {
     "name": "stdout",
     "output_type": "stream",
     "text": [
      "Serial Number: SN123456\n",
      "Price: 1500.0\n",
      "Builder: Fender\n",
      "Model: Stratocaster\n",
      "Type: Electric\n",
      "Back Wood: Alder\n",
      "Top Wood: Maple\n",
      "Updated Price: 1600.0\n"
     ]
    }
   ],
   "execution_count": 1
  },
  {
   "metadata": {
    "ExecuteTime": {
     "end_time": "2024-07-22T13:31:48.023412Z",
     "start_time": "2024-07-22T13:31:48.016562Z"
    }
   },
   "cell_type": "code",
   "source": [
    "class Inventory:\n",
    "    def __init__(self):\n",
    "        self._guitars = []\n",
    "\n",
    "    def add_guitar(self, serial_number, price, builder, model, guitar_type, back_wood, top_wood):\n",
    "        guitar = Guitar(serial_number, price, builder, model, guitar_type, back_wood, top_wood)\n",
    "        self._guitars.append(guitar)\n",
    "\n",
    "    def get_guitar(self, serial_number):\n",
    "        for guitar in self._guitars:\n",
    "            if guitar.serial_number == serial_number:\n",
    "                return guitar\n",
    "        return None\n",
    "\n",
    "    def search(self, search_guitar):\n",
    "        for guitar in self._guitars:\n",
    "            if (self.strings_match(search_guitar.builder, guitar.builder) and\n",
    "                self.strings_match(search_guitar.model, guitar.model) and\n",
    "                self.strings_match(search_guitar.type, guitar.type) and\n",
    "                self.strings_match(search_guitar.back_wood, guitar.back_wood) and\n",
    "                self.strings_match(search_guitar.top_wood, guitar.top_wood)):\n",
    "                return guitar\n",
    "        return None\n",
    "\n",
    "    @staticmethod\n",
    "    def strings_match(string_a, string_b):\n",
    "        if string_a and string_b and string_a.lower() == string_b.lower():\n",
    "            return True\n",
    "        return False\n",
    "\n",
    "\n",
    "# Example usage\n",
    "inventory = Inventory()\n",
    "inventory.add_guitar(\"SN123456\", 1500.00, \"Fender\", \"Stratocaster\", \"Electric\", \"Alder\", \"Maple\")\n",
    "inventory.add_guitar(\"SN789012\", 2500.00, \"Gibson\", \"Les Paul\", \"Electric\", \"Mahogany\", \"Maple\")\n",
    "\n",
    "# Get a guitar by serial number\n",
    "guitar = inventory.get_guitar(\"SN123456\")\n",
    "if guitar:\n",
    "    print(f\"Found Guitar: {guitar.serial_number} - {guitar.builder} {guitar.model}\")\n",
    "\n",
    "# Search for a guitar\n",
    "search_guitar = Guitar(\"\", 0, \"Fender\", \"Stratocaster\", \"Electric\", \"Alder\", \"Maple\")\n",
    "found_guitar = inventory.search(search_guitar)\n",
    "if found_guitar:\n",
    "    print(f\"Search Found Guitar: {found_guitar.serial_number} - {found_guitar.builder} {found_guitar.model}\")"
   ],
   "id": "34f584d3f3d8de13",
   "outputs": [
    {
     "name": "stdout",
     "output_type": "stream",
     "text": [
      "Found Guitar: SN123456 - Fender Stratocaster\n",
      "Search Found Guitar: SN123456 - Fender Stratocaster\n"
     ]
    }
   ],
   "execution_count": 2
  },
  {
   "metadata": {},
   "cell_type": "markdown",
   "source": "#### Encapsulation",
   "id": "50f8b7c79e3a0a40"
  },
  {
   "metadata": {
    "ExecuteTime": {
     "end_time": "2024-08-04T21:22:34.944175Z",
     "start_time": "2024-08-04T21:22:34.940668Z"
    }
   },
   "cell_type": "code",
   "source": [
    "class GuitarSpec:\n",
    "    def __init__(self, builder, model, guitar_type, back_wood, top_wood):\n",
    "        self._builder = builder\n",
    "        self._model = model\n",
    "        self._type = guitar_type\n",
    "        self._back_wood = back_wood\n",
    "        self._top_wood = top_wood\n",
    "    \n",
    "    @property\n",
    "    def builder(self):\n",
    "        return self._builder\n",
    "\n",
    "    @property\n",
    "    def model(self):\n",
    "        return self._model\n",
    "\n",
    "    @property\n",
    "    def type(self):\n",
    "        return self._type\n",
    "\n",
    "    @property\n",
    "    def back_wood(self):\n",
    "        return self._back_wood\n",
    "\n",
    "    @property\n",
    "    def top_wood(self):\n",
    "        return self._top_wood"
   ],
   "id": "d5201ec72bf9a3be",
   "outputs": [],
   "execution_count": 1
  },
  {
   "metadata": {
    "ExecuteTime": {
     "end_time": "2024-08-04T21:30:44.198118Z",
     "start_time": "2024-08-04T21:30:44.193475Z"
    }
   },
   "cell_type": "code",
   "source": [
    "class Guitar:\n",
    "    def __init__(self, serial_number, price, guitar_spec):\n",
    "        self._serial_number = serial_number\n",
    "        self._price = price\n",
    "        self._guitar_spec = guitar_spec\n",
    "\n",
    "    @property\n",
    "    def serial_number(self):\n",
    "        return self._serial_number\n",
    "\n",
    "    @property\n",
    "    def price(self):\n",
    "        return self._price\n",
    "\n",
    "    @price.setter\n",
    "    def price(self, value):\n",
    "        self._price = value\n",
    "    \n",
    "    @property\n",
    "    def guitar_spec(self):\n",
    "        return self._guitar_spec\n",
    "\n",
    "\n",
    "# Example usage\n",
    "guitar_spec = GuitarSpec(\"Fender\", \"Stratocaster\", \"Electric\", \"Alder\", \"Maple\")\n",
    "\n",
    "guitar = Guitar(\"SN123456\", 1500.00, guitar_spec)\n",
    "print(f\"Serial Number: {guitar.serial_number}\")\n",
    "print(f\"Price: {guitar.price}\")\n",
    "print(f\"Guitar Spec: {guitar.guitar_spec}\")\n",
    "\n",
    "# Updating the price\n",
    "guitar.price = 1600.00\n",
    "print(f\"Updated Price: {guitar.price}\")"
   ],
   "id": "70ae1383c0ab885f",
   "outputs": [
    {
     "name": "stdout",
     "output_type": "stream",
     "text": [
      "Serial Number: SN123456\n",
      "Price: 1500.0\n",
      "Guitar Spec: Fender\n",
      "Updated Price: 1600.0\n"
     ]
    }
   ],
   "execution_count": 7
  },
  {
   "metadata": {
    "ExecuteTime": {
     "end_time": "2024-08-04T21:35:23.598754Z",
     "start_time": "2024-08-04T21:35:23.592105Z"
    }
   },
   "cell_type": "code",
   "source": [
    "class Inventory:\n",
    "    def __init__(self):\n",
    "        self._guitars = []\n",
    "\n",
    "    def add_guitar(self, serial_number, price, guitar_spec):\n",
    "        guitar = Guitar(serial_number, price, GuitarSpec(guitar_spec.builder, guitar_spec.model, guitar_spec.type, guitar_spec.back_wood, guitar_spec.top_wood))\n",
    "        self._guitars.append(guitar)\n",
    "\n",
    "    def get_guitar(self, serial_number):\n",
    "        for guitar in self._guitars:\n",
    "            if guitar.serial_number == serial_number:\n",
    "                return guitar\n",
    "        return None\n",
    "\n",
    "    def search(self, search_guitar: GuitarSpec):\n",
    "        for guitar in self._guitars:\n",
    "            if (self.strings_match(search_guitar.builder, guitar.guitar_spec.builder) and\n",
    "                self.strings_match(search_guitar.model, guitar.guitar_spec.model) and\n",
    "                self.strings_match(search_guitar.type, guitar.guitar_spec.type) and\n",
    "                \n",
    "                self.strings_match(search_guitar.back_wood, guitar.guitar_spec.back_wood) and\n",
    "                self.strings_match(search_guitar.top_wood, guitar.guitar_spec.top_wood)):\n",
    "                return guitar\n",
    "        return None\n",
    "\n",
    "    @staticmethod\n",
    "    def strings_match(string_a, string_b):\n",
    "        if string_a and string_b and string_a.lower() == string_b.lower():\n",
    "            return True\n",
    "        return False\n",
    "    \n",
    "    @staticmethod\n",
    "    def int_match(int_a, int_b):\n",
    "        if int_a.is_digit() and int_b.is_digit() and int_a == int_b:\n",
    "            return True\n",
    "        return False\n",
    "\n",
    "\n",
    "# Example usage\n",
    "inventory = Inventory()\n",
    "inventory.add_guitar(\"SN123456\", 1500.00, GuitarSpec(\"Fender\", \"Stratocaster\", \"Electric\", \"Alder\", \"Maple\"))\n",
    "inventory.add_guitar(\"SN789012\", 2500.00, GuitarSpec(\"Gibson\", \"Les Paul\", \"Electric\", \"Mahogany\", \"Maple\"))\n",
    "\n",
    "# Get a guitar by serial number\n",
    "guitar = inventory.get_guitar(\"SN123456\")\n",
    "if guitar:\n",
    "    print(f\"Found Guitar: {guitar.serial_number} - {guitar.guitar_spec.builder} {guitar.guitar_spec.model}\")\n",
    "\n",
    "# Search for a guitar\n",
    "guitar_spec = GuitarSpec(\"Fender\", \"Stratocaster\", \"Electric\", \"Alder\", \"Maple\")\n",
    "found_guitar = inventory.search(guitar_spec)\n",
    "if found_guitar:\n",
    "    print(f\"Search Found Guitar: {found_guitar.serial_number} - {found_guitar.guitar_spec.builder} {found_guitar.guitar_spec.model}\")"
   ],
   "id": "baad6cff27268fa",
   "outputs": [
    {
     "name": "stdout",
     "output_type": "stream",
     "text": [
      "Found Guitar: SN123456 - Fender Stratocaster\n",
      "Search Found Guitar: SN123456 - Fender Stratocaster\n"
     ]
    }
   ],
   "execution_count": 17
  },
  {
   "metadata": {},
   "cell_type": "markdown",
   "source": "#### Delegation",
   "id": "5992878ea9ef8701"
  },
  {
   "metadata": {
    "ExecuteTime": {
     "end_time": "2024-08-04T21:52:08.194896Z",
     "start_time": "2024-08-04T21:52:08.188025Z"
    }
   },
   "cell_type": "code",
   "source": [
    "class GuitarSpec:\n",
    "    def __init__(self, builder, model, guitar_type, num_of_strings, back_wood, top_wood):\n",
    "        self._builder = builder\n",
    "        self._model = model\n",
    "        self._type = guitar_type\n",
    "        self._num_of_strings = num_of_strings\n",
    "        self._back_wood = back_wood\n",
    "        self._top_wood = top_wood\n",
    "    \n",
    "    @property\n",
    "    def builder(self):\n",
    "        return self._builder\n",
    "\n",
    "    @property\n",
    "    def model(self):\n",
    "        return self._model\n",
    "\n",
    "    @property\n",
    "    def type(self):\n",
    "        return self._type\n",
    "\n",
    "    @property\n",
    "    def back_wood(self):\n",
    "        return self._back_wood\n",
    "\n",
    "    @property\n",
    "    def top_wood(self):\n",
    "        return self._top_wood\n",
    "    \n",
    "    @property\n",
    "    def num_of_strings(self):\n",
    "        return self._num_of_strings\n",
    "    \n",
    "    @staticmethod\n",
    "    def strings_match(string_a, string_b):\n",
    "        if string_a and string_b and string_a.lower() == string_b.lower():\n",
    "            return True\n",
    "        return False\n",
    "    \n",
    "    @staticmethod\n",
    "    def int_match(int_a, int_b):\n",
    "        if int_a and int_b and int_a == int_b:\n",
    "            return True\n",
    "        return False\n",
    "    \n",
    "    def matches(self, guitar_spec: GuitarSpec):\n",
    "        if (self.strings_match(self.builder, guitar_spec.builder) and\n",
    "            self.strings_match(self.model, guitar_spec.model) and\n",
    "            self.strings_match(self.type, guitar_spec.type) and\n",
    "            self.int_match(self.num_of_strings, guitar_spec.num_of_strings) and\n",
    "            self.strings_match(self.back_wood, guitar_spec.back_wood) and\n",
    "            self.strings_match(self.top_wood, guitar_spec.top_wood)):\n",
    "            return guitar\n",
    "        return None"
   ],
   "id": "e5789f3d00245bc9",
   "outputs": [],
   "execution_count": 28
  },
  {
   "metadata": {
    "ExecuteTime": {
     "end_time": "2024-08-04T21:52:08.829256Z",
     "start_time": "2024-08-04T21:52:08.823305Z"
    }
   },
   "cell_type": "code",
   "source": [
    "class Inventory:\n",
    "    def __init__(self):\n",
    "        self._guitars = []\n",
    "\n",
    "    def add_guitar(self, serial_number, price, guitar_spec: GuitarSpec):\n",
    "        guitar = Guitar(serial_number, price, guitar_spec)\n",
    "        self._guitars.append(guitar)\n",
    "\n",
    "    def get_guitar(self, serial_number):\n",
    "        for guitar in self._guitars:\n",
    "            if guitar.serial_number == serial_number:\n",
    "                return guitar\n",
    "        return None\n",
    "\n",
    "    def search(self, search_guitar: GuitarSpec):\n",
    "        for guitar in self._guitars:\n",
    "            if guitar.guitar_spec.matches(search_guitar):\n",
    "                return guitar\n",
    "        return None\n",
    "\n",
    "\n",
    "# Example usage\n",
    "inventory = Inventory()\n",
    "inventory.add_guitar(\"SN123456\", 1500.00, GuitarSpec(\"Fender\", \"Stratocaster\", \"Electric\", 12, \"Alder\", \"Maple\"))\n",
    "inventory.add_guitar(\"SN789012\", 2500.00, GuitarSpec(\"Gibson\", \"Les Paul\", \"Electric\", 12,\"Mahogany\", \"Maple\"))\n",
    "\n",
    "# Get a guitar by serial number\n",
    "guitar = inventory.get_guitar(\"SN123456\")\n",
    "if guitar:\n",
    "    print(f\"Found Guitar: {guitar.serial_number} - {guitar.guitar_spec.builder} {guitar.guitar_spec.model}\")\n",
    "\n",
    "# Search for a guitar\n",
    "guitar_spec = GuitarSpec(\"Fender\", \"Stratocaster\", \"Electric\", 12,\"Alder\", \"Maple\")\n",
    "found_guitar = inventory.search(guitar_spec)\n",
    "if found_guitar:\n",
    "    print(f\"Search Found Guitar: {found_guitar.serial_number} - {found_guitar.guitar_spec.builder} {found_guitar.guitar_spec.model}\")"
   ],
   "id": "614e1e439043862d",
   "outputs": [
    {
     "name": "stdout",
     "output_type": "stream",
     "text": [
      "Found Guitar: SN123456 - Fender Stratocaster\n",
      "Search Found Guitar: SN123456 - Fender Stratocaster\n"
     ]
    }
   ],
   "execution_count": 29
  }
 ],
 "metadata": {
  "kernelspec": {
   "display_name": "Python 3",
   "language": "python",
   "name": "python3"
  },
  "language_info": {
   "codemirror_mode": {
    "name": "ipython",
    "version": 2
   },
   "file_extension": ".py",
   "mimetype": "text/x-python",
   "name": "python",
   "nbconvert_exporter": "python",
   "pygments_lexer": "ipython2",
   "version": "2.7.6"
  }
 },
 "nbformat": 4,
 "nbformat_minor": 5
}
